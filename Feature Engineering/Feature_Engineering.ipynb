{
 "cells": [
  {
   "cell_type": "code",
   "execution_count": 1,
   "metadata": {},
   "outputs": [
    {
     "name": "stderr",
     "output_type": "stream",
     "text": [
      "C:\\Users\\kwanv\\AppData\\Local\\Packages\\PythonSoftwareFoundation.Python.3.9_qbz5n2kfra8p0\\LocalCache\\local-packages\\Python39\\site-packages\\fuzzywuzzy\\fuzz.py:11: UserWarning: Using slow pure-python SequenceMatcher. Install python-Levenshtein to remove this warning\n",
      "  warnings.warn('Using slow pure-python SequenceMatcher. Install python-Levenshtein to remove this warning')\n"
     ]
    }
   ],
   "source": [
    "# Data processing libraries\n",
    "import pandas as pd \n",
    "import numpy as  np\n",
    "\n",
    "# Required imports for NLP and text analysis\n",
    "import nltk \n",
    "from nltk.stem.snowball import EnglishStemmer \n",
    "import matplotlib.pyplot as plt\n",
    "from stop_words import get_stop_words\n",
    "from nltk.corpus import stopwords\n",
    "from nltk.tokenize import word_tokenize\n",
    "from wordcloud import STOPWORDS\n",
    "from wordcloud import WordCloud\n",
    "from PIL import Image\n",
    "from nltk.stem.porter import PorterStemmer\n",
    "from tqdm import tqdm\n",
    "import spacy\n",
    "import string\n",
    "import regex as re\n",
    "\n",
    "# Required library for misc visualization\n",
    "import seaborn as sns\n",
    "\n",
    "# Misc libraries\n",
    "import os\n",
    "from fuzzywuzzy import fuzz\n",
    "from fuzzywuzzy import process\n",
    "\n",
    "# Misc operation so that i can access my parent directory\n",
    "parent = os.path.abspath(os.path.join(os.getcwd(), os.pardir))\n",
    "sys.path.insert(0, parent)\n",
    "\n",
    "# Importing my utility script\n",
    "import util\n",
    "\n",
    "# Importing textstat for Flesch Reading score\n",
    "import textstat\n",
    "\n",
    "# Required library for sentiment analysis - polarity score\n",
    "from textblob import TextBlob"
   ]
  },
  {
   "cell_type": "code",
   "execution_count": 2,
   "metadata": {},
   "outputs": [],
   "source": [
    "# One time operation to download corpus\n",
    "\n",
    "#nltk.download('words')"
   ]
  },
  {
   "cell_type": "code",
   "execution_count": 3,
   "metadata": {},
   "outputs": [],
   "source": [
    "# Initializing NLP items\n",
    "\n",
    "nlp = spacy.load(\"en_core_web_lg\")\n",
    "from nltk.corpus import stopwords as sw\n",
    "\n",
    "stop_words = sw.words('english')\n",
    "words = set(nltk.corpus.words.words())\n",
    "punctuations = string.punctuation"
   ]
  },
  {
   "cell_type": "code",
   "execution_count": 4,
   "metadata": {},
   "outputs": [],
   "source": [
    "sns.set(rc = {'figure.figsize':(15, 10)})"
   ]
  },
  {
   "cell_type": "code",
   "execution_count": 5,
   "metadata": {},
   "outputs": [],
   "source": [
    "# Reading in data\n",
    "\n",
    "data = pd.read_csv(parent + '\\Recruitment.csv')\n",
    "\n",
    "# Dropping irrelevant column\n",
    "data = data.drop('in_balanced_dataset', axis = 1)"
   ]
  },
  {
   "cell_type": "code",
   "execution_count": 5,
   "metadata": {},
   "outputs": [
    {
     "data": {
      "text/html": [
       "<div>\n",
       "<style scoped>\n",
       "    .dataframe tbody tr th:only-of-type {\n",
       "        vertical-align: middle;\n",
       "    }\n",
       "\n",
       "    .dataframe tbody tr th {\n",
       "        vertical-align: top;\n",
       "    }\n",
       "\n",
       "    .dataframe thead th {\n",
       "        text-align: right;\n",
       "    }\n",
       "</style>\n",
       "<table border=\"1\" class=\"dataframe\">\n",
       "  <thead>\n",
       "    <tr style=\"text-align: right;\">\n",
       "      <th></th>\n",
       "      <th>title</th>\n",
       "      <th>location</th>\n",
       "      <th>department</th>\n",
       "      <th>salary_range</th>\n",
       "      <th>company_profile</th>\n",
       "      <th>description</th>\n",
       "      <th>requirements</th>\n",
       "      <th>benefits</th>\n",
       "      <th>telecommuting</th>\n",
       "      <th>has_company_logo</th>\n",
       "      <th>has_questions</th>\n",
       "      <th>employment_type</th>\n",
       "      <th>required_experience</th>\n",
       "      <th>required_education</th>\n",
       "      <th>industry</th>\n",
       "      <th>function</th>\n",
       "      <th>fraudulent</th>\n",
       "    </tr>\n",
       "  </thead>\n",
       "  <tbody>\n",
       "    <tr>\n",
       "      <th>0</th>\n",
       "      <td>Marketing Intern</td>\n",
       "      <td>US, NY, New York</td>\n",
       "      <td>Marketing</td>\n",
       "      <td>NaN</td>\n",
       "      <td>&lt;h3&gt;We're Food52, and we've created a groundbr...</td>\n",
       "      <td>&lt;p&gt;Food52, a fast-growing, James Beard Award-w...</td>\n",
       "      <td>&lt;ul&gt;\\r\\n&lt;li&gt;Experience with content management...</td>\n",
       "      <td>NaN</td>\n",
       "      <td>f</td>\n",
       "      <td>t</td>\n",
       "      <td>f</td>\n",
       "      <td>Other</td>\n",
       "      <td>Internship</td>\n",
       "      <td>NaN</td>\n",
       "      <td>NaN</td>\n",
       "      <td>Marketing</td>\n",
       "      <td>f</td>\n",
       "    </tr>\n",
       "    <tr>\n",
       "      <th>1</th>\n",
       "      <td>Customer Service - Cloud Video Production</td>\n",
       "      <td>NZ, , Auckland</td>\n",
       "      <td>Success</td>\n",
       "      <td>NaN</td>\n",
       "      <td>&lt;h3&gt;90 Seconds, the worlds Cloud Video Product...</td>\n",
       "      <td>&lt;p&gt;Organised - Focused - Vibrant - Awesome!&lt;br...</td>\n",
       "      <td>&lt;p&gt;&lt;b&gt;What we expect from you:&lt;/b&gt;&lt;/p&gt;\\r\\n&lt;p&gt;Y...</td>\n",
       "      <td>&lt;h3&gt;&lt;b&gt;What you will get from us&lt;/b&gt;&lt;/h3&gt;\\r\\n&lt;...</td>\n",
       "      <td>f</td>\n",
       "      <td>t</td>\n",
       "      <td>f</td>\n",
       "      <td>Full-time</td>\n",
       "      <td>Not Applicable</td>\n",
       "      <td>NaN</td>\n",
       "      <td>Marketing and Advertising</td>\n",
       "      <td>Customer Service</td>\n",
       "      <td>f</td>\n",
       "    </tr>\n",
       "    <tr>\n",
       "      <th>2</th>\n",
       "      <td>Commissioning Machinery Assistant (CMA)</td>\n",
       "      <td>US, IA, Wever</td>\n",
       "      <td>NaN</td>\n",
       "      <td>NaN</td>\n",
       "      <td>&lt;h3&gt;&lt;/h3&gt;\\r\\n&lt;p&gt;Valor Services provides Workfo...</td>\n",
       "      <td>&lt;p&gt;Our client, located in Houston, is actively...</td>\n",
       "      <td>&lt;ul&gt;\\r\\n&lt;li&gt;Implement pre-commissioning and co...</td>\n",
       "      <td>NaN</td>\n",
       "      <td>f</td>\n",
       "      <td>t</td>\n",
       "      <td>f</td>\n",
       "      <td>NaN</td>\n",
       "      <td>NaN</td>\n",
       "      <td>NaN</td>\n",
       "      <td>NaN</td>\n",
       "      <td>NaN</td>\n",
       "      <td>f</td>\n",
       "    </tr>\n",
       "  </tbody>\n",
       "</table>\n",
       "</div>"
      ],
      "text/plain": [
       "                                       title          location department  \\\n",
       "0                           Marketing Intern  US, NY, New York  Marketing   \n",
       "1  Customer Service - Cloud Video Production    NZ, , Auckland    Success   \n",
       "2    Commissioning Machinery Assistant (CMA)     US, IA, Wever        NaN   \n",
       "\n",
       "  salary_range                                    company_profile  \\\n",
       "0          NaN  <h3>We're Food52, and we've created a groundbr...   \n",
       "1          NaN  <h3>90 Seconds, the worlds Cloud Video Product...   \n",
       "2          NaN  <h3></h3>\\r\\n<p>Valor Services provides Workfo...   \n",
       "\n",
       "                                         description  \\\n",
       "0  <p>Food52, a fast-growing, James Beard Award-w...   \n",
       "1  <p>Organised - Focused - Vibrant - Awesome!<br...   \n",
       "2  <p>Our client, located in Houston, is actively...   \n",
       "\n",
       "                                        requirements  \\\n",
       "0  <ul>\\r\\n<li>Experience with content management...   \n",
       "1  <p><b>What we expect from you:</b></p>\\r\\n<p>Y...   \n",
       "2  <ul>\\r\\n<li>Implement pre-commissioning and co...   \n",
       "\n",
       "                                            benefits telecommuting  \\\n",
       "0                                                NaN             f   \n",
       "1  <h3><b>What you will get from us</b></h3>\\r\\n<...             f   \n",
       "2                                                NaN             f   \n",
       "\n",
       "  has_company_logo has_questions employment_type required_experience  \\\n",
       "0                t             f           Other          Internship   \n",
       "1                t             f       Full-time      Not Applicable   \n",
       "2                t             f             NaN                 NaN   \n",
       "\n",
       "  required_education                   industry          function fraudulent  \n",
       "0                NaN                        NaN         Marketing          f  \n",
       "1                NaN  Marketing and Advertising  Customer Service          f  \n",
       "2                NaN                        NaN               NaN          f  "
      ]
     },
     "execution_count": 5,
     "metadata": {},
     "output_type": "execute_result"
    }
   ],
   "source": [
    "data.head(3)"
   ]
  },
  {
   "cell_type": "code",
   "execution_count": 6,
   "metadata": {},
   "outputs": [
    {
     "name": "stdout",
     "output_type": "stream",
     "text": [
      "<class 'pandas.core.frame.DataFrame'>\n",
      "RangeIndex: 17880 entries, 0 to 17879\n",
      "Data columns (total 17 columns):\n",
      " #   Column               Non-Null Count  Dtype \n",
      "---  ------               --------------  ----- \n",
      " 0   title                17880 non-null  object\n",
      " 1   location             17534 non-null  object\n",
      " 2   department           6333 non-null   object\n",
      " 3   salary_range         2868 non-null   object\n",
      " 4   company_profile      14572 non-null  object\n",
      " 5   description          17880 non-null  object\n",
      " 6   requirements         15191 non-null  object\n",
      " 7   benefits             10684 non-null  object\n",
      " 8   telecommuting        17880 non-null  object\n",
      " 9   has_company_logo     17880 non-null  object\n",
      " 10  has_questions        17880 non-null  object\n",
      " 11  employment_type      14409 non-null  object\n",
      " 12  required_experience  10830 non-null  object\n",
      " 13  required_education   9775 non-null   object\n",
      " 14  industry             12977 non-null  object\n",
      " 15  function             11425 non-null  object\n",
      " 16  fraudulent           17880 non-null  object\n",
      "dtypes: object(17)\n",
      "memory usage: 2.3+ MB\n"
     ]
    }
   ],
   "source": [
    "# Every column has been stored as an object dtype. Furthermore, there are various null values interspersed throughout the dataset.\n",
    "# The only non-null column is the title column.\n",
    "data.info()"
   ]
  },
  {
   "cell_type": "markdown",
   "metadata": {},
   "source": [
    "# Feature Engineering #1\n",
    "### Creating City, State, and Country fields from location field"
   ]
  },
  {
   "cell_type": "code",
   "execution_count": 7,
   "metadata": {},
   "outputs": [],
   "source": [
    "data[['Country', 'State', 'City']] = data['location'].str.split(',', expand = True).iloc[:, :3]"
   ]
  },
  {
   "cell_type": "markdown",
   "metadata": {},
   "source": [
    "# Feature Engineering #2\n",
    "### The industry field is long-tailed, and will pose a dimensionality challenge when modeling. \n",
    "### Therefore, a collapse procedure is being carried out here."
   ]
  },
  {
   "cell_type": "code",
   "execution_count": 8,
   "metadata": {},
   "outputs": [
    {
     "data": {
      "text/plain": [
       "131"
      ]
     },
     "execution_count": 8,
     "metadata": {},
     "output_type": "execute_result"
    }
   ],
   "source": [
    "data['industry'].nunique()"
   ]
  },
  {
   "cell_type": "markdown",
   "metadata": {},
   "source": [
    "### I need an algorithmic way of extracting common substrings. I decided to use the fuzzywuzzy library which calculates the Levenshtein distance between strings."
   ]
  },
  {
   "cell_type": "code",
   "execution_count": 10,
   "metadata": {},
   "outputs": [
    {
     "name": "stdout",
     "output_type": "stream",
     "text": [
      "56\n",
      "[('Management Consulting', 90), ('Management Consulting', 90), ('Education Management', 90), ('Education Management', 90), ('Education Management', 90)]\n",
      "[('Investment Management', 90), ('Investment Banking', 90), ('Investment Management', 90), ('Investment Management', 90), ('Investment Management', 90)]\n",
      "[('Hospital & Health Care', 90), ('Hospital & Health Care', 90), ('Hospital & Health Care', 90), ('Hospital & Health Care', 90), ('Health, Wellness and Fitness', 90)]\n",
      "[('Computer & Network Security', 90), ('Computer & Network Security', 90), ('Security and Investigations', 90), ('Computer & Network Security', 90), ('Security and Investigations', 90)]\n",
      "[('Luxury Goods & Jewelry', 90), ('Luxury Goods & Jewelry', 90), ('Luxury Goods & Jewelry', 90), ('Luxury Goods & Jewelry', 90), ('Leisure, Travel & Tourism', 45)]\n",
      "[('Writing and Editing', 75), ('Writing and Editing', 75), ('Mining & Metals', 75), ('Writing and Editing', 75), ('Professional Training & Coaching', 75)]\n",
      "[('Food & Beverages', 90), ('Food Production', 90), ('Food & Beverages', 90), ('Food & Beverages', 90), ('Food Production', 90)]\n"
     ]
    }
   ],
   "source": [
    "# Carrying out several tests to find similar strings\n",
    "\n",
    "print(fuzz.partial_ratio('Education Management', 'Higher Education'))\n",
    "\n",
    "print(process.extract('Management', data['industry'].tolist()))\n",
    "\n",
    "print(process.extract('Investment', data['industry'].tolist()))\n",
    "\n",
    "print(process.extract('Health', data['industry'].tolist()))\n",
    "\n",
    "print(process.extract('Security', data['industry'].tolist()))\n",
    "\n",
    "print(process.extract('Luxury', data['industry'].tolist()))\n",
    "\n",
    "print(process.extract('Dining', data['industry'].tolist()))\n",
    "\n",
    "print(process.extract('Food', data['industry'].tolist()))"
   ]
  },
  {
   "cell_type": "code",
   "execution_count": 11,
   "metadata": {},
   "outputs": [
    {
     "name": "stdout",
     "output_type": "stream",
     "text": [
      "['Public Relations and Communications' 'Government Relations']\n",
      "['Marketing and Advertising' 'Information Technology and Services'\n",
      " 'Health, Wellness and Fitness' 'Staffing and Recruiting'\n",
      " 'Public Relations and Communications' 'Logistics and Supply Chain'\n",
      " 'Business Supplies and Equipment' 'Writing and Editing'\n",
      " 'Security and Investigations' 'Motion Pictures and Film'\n",
      " 'Packaging and Containers' 'Import and Export'\n",
      " 'International Trade and Development' 'Translation and Localization'\n",
      " 'Wine and Spirits' 'Museums and Institutions']\n",
      "['Education Management' 'Primary/Secondary Education' 'Higher Education']\n",
      "['Management Consulting' 'Education Management' 'Investment Management'\n",
      " 'Nonprofit Organization Management']\n"
     ]
    }
   ],
   "source": [
    "# Investigating similar industries through string matching\n",
    "\n",
    "print(data['industry'][data['industry'].str.contains('Relations', na = False)].unique())\n",
    "\n",
    "print(data['industry'][data['industry'].str.contains('and', na = False)].unique())\n",
    "\n",
    "print(data['industry'][data['industry'].str.contains('Education', na = False)].unique())\n",
    "\n",
    "print(data['industry'][data['industry'].str.contains('Management', na = False)].unique())"
   ]
  },
  {
   "cell_type": "code",
   "execution_count": 10,
   "metadata": {},
   "outputs": [],
   "source": [
    "# Turning off SettingWithCopyWarning which was created to warn of chained assignments\n",
    "# This is irrelevant for our purposes, and adds no purpose other than to annoy\n",
    "\n",
    "pd.options.mode.chained_assignment = None"
   ]
  },
  {
   "cell_type": "markdown",
   "metadata": {},
   "source": [
    "### Collapsing together similar industries to reduce dimensionality\n",
    "### Also grouping together industries with a count of 100 or less into a Miscellaneous category.\n",
    "\n",
    "### The count of 100 was chosen as I want every industry which represents less than 1% of the total dataset to be bundled together."
   ]
  },
  {
   "cell_type": "code",
   "execution_count": 13,
   "metadata": {},
   "outputs": [],
   "source": [
    "# Collapsing together Health industries\n",
    "\n",
    "data['industry'][data['industry'][data['industry'].str.contains('Health', na = False)].index] = 'Hospital & Healthcare'\n",
    "\n",
    "# Collapsing together Banking & Financial industries\n",
    "\n",
    "data['industry'][data['industry'][data['industry'].str.contains('Banking', na = False)].index] = 'Banking and Financial Services'\n",
    "data['industry'][data['industry'][data['industry'].str.contains('Financial', na = False)].index] = 'Banking and Financial Services'\n",
    "\n",
    "# Collapsing together 'Computer' industries\n",
    "\n",
    "data['industry'][data['industry'][data['industry'].str.contains('Computer', na = False)].index] = 'Computer/IT/Software'\n",
    "\n",
    "# Collapsing together IT & Information industries industries\n",
    "\n",
    "data['industry'][data['industry'][data['industry'].str.contains('Information', na = False)].index] = 'Computer/IT/Software'\n",
    "data['industry'][data['industry'][data['industry'].str.contains('Internet', na = False)].index] = 'Computer/IT/Software'\n",
    "\n",
    "# Collapsing together Animation industry with Motion Pictures\n",
    "\n",
    "data['industry'][data['industry'][data['industry'].str.contains('Animation', na = False)].index] = 'Motion Pictures & Film'\n",
    "\n",
    "# Collapsing together Trade industry with EXIM\n",
    "\n",
    "data['industry'][data['industry'][data['industry'].str.contains('Trade', na = False)].index] = 'Import and Export'\n",
    "\n",
    "# Collapsing all management professions/industries into one Management category\n",
    "\n",
    "data['industry'][data['industry'][data['industry'].str.contains('Management', na = False)].index] = 'Management'\n",
    "\n",
    "# Collapsing all Education industries into one category\n",
    "\n",
    "data['industry'][data['industry'][data['industry'].str.contains('Education', na = False)].index] = 'Education'\n",
    "\n",
    "# Collapsing Plastic industry into Oil & Energy\n",
    "\n",
    "data['industry'][data['industry'][data['industry'].str.contains('Plastic', na = False)].index] = 'Oil, Energy and Plastics'\n",
    "data['industry'][data['industry'][data['industry'].str.contains('Oil', na = False)].index] = 'Oil, Energy and Plastics'\n",
    "\n",
    "# Collapsing Staffing industry into Human Resources\n",
    "\n",
    "data['industry'][data['industry'][data['industry'].str.contains('Staffing', na = False)].index] = 'Human Resources'"
   ]
  },
  {
   "cell_type": "code",
   "execution_count": 15,
   "metadata": {},
   "outputs": [],
   "source": [
    "# Collapsing industries with count less than 100 into Miscellaneous category\n",
    "\n",
    "for industry in data['industry'].value_counts()[data['industry'].value_counts() <= 100].index.tolist():\n",
    "    data['industry'][data['industry'][data['industry'].str.contains(industry, na = False)].index] = 'Miscellaneous'"
   ]
  },
  {
   "cell_type": "markdown",
   "metadata": {},
   "source": [
    "### The collapse operation led to a reduction of 111 categories.\n",
    "### The final field contains only 20 unique values. "
   ]
  },
  {
   "cell_type": "code",
   "execution_count": 16,
   "metadata": {},
   "outputs": [
    {
     "data": {
      "text/plain": [
       "20"
      ]
     },
     "execution_count": 16,
     "metadata": {},
     "output_type": "execute_result"
    }
   ],
   "source": [
    "data['industry'].nunique()"
   ]
  },
  {
   "cell_type": "markdown",
   "metadata": {},
   "source": [
    "# Feature Engineering #3\n",
    "\n",
    "### Creating a salary_mean field from salary_range"
   ]
  },
  {
   "cell_type": "code",
   "execution_count": 17,
   "metadata": {},
   "outputs": [],
   "source": [
    "# Splitting the string by a delimiter\n",
    "\n",
    "data['salary_range'] = data['salary_range'].str.split('-')\n",
    "\n",
    "# Applying helper function to compute mean of min-max range\n",
    "\n",
    "data['salary_mean'] = data['salary_range'].apply(util.salary_mean)"
   ]
  },
  {
   "cell_type": "markdown",
   "metadata": {},
   "source": [
    "# Feature Engineering #4\n",
    "\n",
    "### Text field clean-up.\n",
    "\n",
    "### Creating lemmatized, and punctuation free versions of the text fields"
   ]
  },
  {
   "cell_type": "code",
   "execution_count": 19,
   "metadata": {},
   "outputs": [],
   "source": [
    "# Adding HTML elements to stopwords\n",
    "\n",
    "stop_words.extend(['etc', 'u', 'ul', 'br', 'b', 'i', 'false', 'li', 'w', 'ww', 'www', 'p', 'LsdException', 'nofollow', 'amp', 'grid', 'accent'])\n",
    "\n",
    "clean_up_cols = ['company_profile', 'requirements', 'description', 'benefits']\n",
    "\n",
    "for col in clean_up_cols:\n",
    "    \n",
    "    # name cleaned up column\n",
    "    cleaned_col_name = col + '_cleaned'\n",
    "\n",
    "    # initiate empty column\n",
    "    data[cleaned_col_name] = ''\n",
    "\n",
    "\n",
    "    for i in range(len(data[col])):\n",
    "\n",
    "        # if data is na, place empty string\n",
    "        if pd.isna(data[col][i]):\n",
    "            data[cleaned_col_name][i] = np.NAN\n",
    "        else:\n",
    "\n",
    "            # dont need entire nlp pipeline so parser and ner are disabled        \n",
    "            text_doc = nlp(data[col][i], disable=['parser', 'ner'])\n",
    "\n",
    "            # text is lemmatized, converted to lowercase, and separated by whitespace\n",
    "            text = [tok.lemma_.lower().strip() for tok in text_doc]\n",
    "\n",
    "            # stopwords and punctuation marks are filtered out\n",
    "            text = [tok for tok in text if tok in words and tok not in stop_words and tok not in punctuations and tok.isnumeric() is False]\n",
    "            # the resulting token list is joined back into a sentence\n",
    "            text =  ' '.join(text)\n",
    "\n",
    "            data[cleaned_col_name][i] = text"
   ]
  },
  {
   "cell_type": "markdown",
   "metadata": {},
   "source": [
    "# Feature Engineering #5\n",
    "\n",
    "### Creating comma counters for each text field"
   ]
  },
  {
   "cell_type": "code",
   "execution_count": 20,
   "metadata": {},
   "outputs": [],
   "source": [
    "data['commas_desc'] = data['description'].str.count(',')\n",
    "data['commas_profile'] = data['company_profile'].str.count(',')\n",
    "data['commas_requirement'] = data['requirements'].str.count(',')\n",
    "data['commas_benefits'] = data['benefits'].str.count(',')"
   ]
  },
  {
   "cell_type": "markdown",
   "metadata": {},
   "source": [
    "# Feature Engineering #5\n",
    "\n",
    "### Creating whitespace counters for each text field\n",
    "\n",
    "### Note: this field will be positively correlated with length of the text field for obvious reasons.\n",
    "### In that case, this field might be redundant and lead to multi-collinearity"
   ]
  },
  {
   "cell_type": "code",
   "execution_count": 21,
   "metadata": {},
   "outputs": [],
   "source": [
    "data['spaces_desc'] = data['description'].str.count(' ')\n",
    "data['spaces_profile'] = data['company_profile'].str.count(' ')\n",
    "data['spaces_requirement'] = data['requirements'].str.count(' ')\n",
    "data['spaces_benefits'] = data['benefits'].str.count(' ')"
   ]
  },
  {
   "cell_type": "markdown",
   "metadata": {},
   "source": [
    "# Feature Engineering #6\n",
    "\n",
    "### Creating consecutive punctuation counters for each text field.\n",
    "\n",
    "### Example - \"this is, , an example sentence with consecutive punctuation marks!!\"\n",
    "\n",
    "### The example text contains 2 consecutive punctuation marks"
   ]
  },
  {
   "cell_type": "code",
   "execution_count": 22,
   "metadata": {},
   "outputs": [],
   "source": [
    "clean_up_cols = ['company_profile', 'requirements', 'description', 'benefits']\n",
    "\n",
    "for col in clean_up_cols:\n",
    "    # name cleaned up column\n",
    "    cleaned_col_name = col + '_consecpunc'\n",
    "\n",
    "    # initiate empty column\n",
    "    data[cleaned_col_name] = ''\n",
    "\n",
    "\n",
    "    for i in range(len(data[col])):\n",
    "        count = 0\n",
    "        # if data is na, place empty string\n",
    "        if pd.isna(data[col][i]):\n",
    "            data[cleaned_col_name][i] = np.NAN\n",
    "        else:\n",
    "\n",
    "            # dont need entire nlp pipeline so parser and ner are disabled        \n",
    "            text_doc = nlp(data[col][i], disable=['parser', 'ner'])\n",
    "\n",
    "            tokens = [tok.lemma_.lower().strip() for tok in text_doc if tok.lemma_ != '-PRON-']\n",
    "            tokens = list(zip(tokens[1:], tokens))\n",
    "            for tok in tokens:\n",
    "                if tok[0] in punctuations and tok[1] in punctuations:\n",
    "                    count += 1\n",
    "\n",
    "            data[cleaned_col_name][i] = count"
   ]
  },
  {
   "cell_type": "markdown",
   "metadata": {},
   "source": [
    "# Feature Engineering #7\n",
    "\n",
    "### Creating missing indicators for post attributes and text fields"
   ]
  },
  {
   "cell_type": "code",
   "execution_count": 23,
   "metadata": {},
   "outputs": [],
   "source": [
    "# Creating missing indicators for post attributes\n",
    "\n",
    "attributes = ['industry', 'function', 'requirements', 'benefits', 'description' ,'employment_type', 'salary_range', 'location']\n",
    "\n",
    "for col in attributes:\n",
    "    new_col =  'has_' + col\n",
    "    data[new_col] = data[col].isna().astype(int)"
   ]
  },
  {
   "cell_type": "markdown",
   "metadata": {},
   "source": [
    "# Feature Engineering 8\n",
    "\n",
    "### Creating clickbait word counters"
   ]
  },
  {
   "cell_type": "code",
   "execution_count": 35,
   "metadata": {},
   "outputs": [],
   "source": [
    "clickbait_words = ['earn', 'home', 'week', 'remote', 'daily', 'cash', 'high school', 'no degree']"
   ]
  },
  {
   "cell_type": "code",
   "execution_count": 78,
   "metadata": {},
   "outputs": [],
   "source": [
    "clean_up_cols = ['company_profile_cleaned', 'requirements_cleaned', 'description_cleaned', 'benefits_cleaned']\n",
    "\n",
    "for col in clean_up_cols:\n",
    "    # name cleaned up column\n",
    "    cleaned_col_name = col + '_clickbait_count'\n",
    "\n",
    "    # initiate empty column\n",
    "    data[cleaned_col_name] = ''\n",
    "    \n",
    "\n",
    "    for i in range(len(data[col])):\n",
    "        count = 0\n",
    "        # if data is na, place empty string\n",
    "        if pd.isna(data[col][i]):\n",
    "            data[cleaned_col_name][i] = np.NAN\n",
    "        else:\n",
    "\n",
    "            for word in clickbait_words:\n",
    "                if word in data[col][i].split():\n",
    "                    count += 1\n",
    "        \n",
    "        data[cleaned_col_name][i] = count"
   ]
  },
  {
   "cell_type": "markdown",
   "metadata": {},
   "source": [
    "# Feature Engineering #9\n",
    "\n",
    "### Clickbait word count to length"
   ]
  },
  {
   "cell_type": "code",
   "execution_count": 80,
   "metadata": {},
   "outputs": [],
   "source": [
    "clean_up_cols = ['company_profile_cleaned', 'requirements_cleaned', 'description_cleaned', 'benefits_cleaned']\n",
    "\n",
    "for col in clean_up_cols:\n",
    "    # name cleaned up column\n",
    "    clickbait_col = col + '_clickbait_count'\n",
    "    clickbait_ratio_col = col + '_clickbait_ratio'\n",
    "    # initiate empty column\n",
    "    data[clickbait_ratio_col] = 0.0\n",
    "\n",
    "    for i in range(len(data[col])):\n",
    "        \n",
    "        # if data is na, place NAN object\n",
    "        if pd.isna(data[col][i]):\n",
    "            data[clickbait_ratio_col][i] = np.NAN\n",
    "        else:\n",
    "\n",
    "            ratio = data[clickbait_col][i]/len(data[col][i].split())\n",
    "\n",
    "            if ratio > 1:\n",
    "                data[clickbait_ratio_col][i] = np.NAN\n",
    "            else:\n",
    "            #print(ratio)\n",
    "                data[clickbait_ratio_col][i] = ratio\n",
    "            #print(data[clickbait_ratio_col][i])"
   ]
  },
  {
   "cell_type": "markdown",
   "metadata": {},
   "source": [
    "# Feature Engineering #10\n",
    "\n",
    "### Determining readability of text fields using the Flesch Reading Score"
   ]
  },
  {
   "cell_type": "code",
   "execution_count": 107,
   "metadata": {},
   "outputs": [
    {
     "data": {
      "text/plain": [
       "41.36"
      ]
     },
     "execution_count": 107,
     "metadata": {},
     "output_type": "execute_result"
    }
   ],
   "source": [
    "textstat.flesch_reading_ease('Hello, for this sentence to be read - considerable difficulty has to be undertaken.')"
   ]
  },
  {
   "cell_type": "code",
   "execution_count": 108,
   "metadata": {},
   "outputs": [
    {
     "data": {
      "text/plain": [
       "88.74"
      ]
     },
     "execution_count": 108,
     "metadata": {},
     "output_type": "execute_result"
    }
   ],
   "source": [
    "textstat.flesch_reading_ease('Hello, this is an easy sentence to read.')"
   ]
  },
  {
   "cell_type": "code",
   "execution_count": 5,
   "metadata": {},
   "outputs": [
    {
     "name": "stderr",
     "output_type": "stream",
     "text": [
      "<ipython-input-5-e2a3c3e597d5>:17: SettingWithCopyWarning: \n",
      "A value is trying to be set on a copy of a slice from a DataFrame\n",
      "\n",
      "See the caveats in the documentation: https://pandas.pydata.org/pandas-docs/stable/user_guide/indexing.html#returning-a-view-versus-a-copy\n",
      "  data[col_name][i] = textstat.flesch_reading_ease(data[col][i])\n",
      "<ipython-input-5-e2a3c3e597d5>:14: SettingWithCopyWarning: \n",
      "A value is trying to be set on a copy of a slice from a DataFrame\n",
      "\n",
      "See the caveats in the documentation: https://pandas.pydata.org/pandas-docs/stable/user_guide/indexing.html#returning-a-view-versus-a-copy\n",
      "  data[col_name][i] = np.NAN\n"
     ]
    }
   ],
   "source": [
    "clean_up_cols = ['company_profile_cleaned', 'requirements_cleaned', 'description_cleaned', 'benefits_cleaned']\n",
    "\n",
    "for col in clean_up_cols:\n",
    "    # name cleaned up column\n",
    "    col_name = col + '_read_score'\n",
    "\n",
    "    # initiate empty column\n",
    "    data[col_name] = 0.0\n",
    "\n",
    "    for i in range(len(data[col])):\n",
    "        \n",
    "        # if data is na, place NAN object\n",
    "        if pd.isna(data[col][i]):\n",
    "            data[col_name][i] = np.NAN\n",
    "        else:\n",
    "            # assign read score to field\n",
    "            data[col_name][i] = textstat.flesch_reading_ease(data[col][i])"
   ]
  },
  {
   "cell_type": "code",
   "execution_count": 151,
   "metadata": {},
   "outputs": [],
   "source": [
    "clean_up_cols = ['company_profile', 'requirements', 'description', 'benefits']\n",
    "\n",
    "# have to work with dataset with html elements removed, but not tokenized and lemmatized\n",
    "\n",
    "for col in clean_up_cols:\n",
    "    \n",
    "    # name cleaned up column\n",
    "    cleaned_col_name = col + '_read_score'\n",
    "\n",
    "    # initiate empty column\n",
    "    data[cleaned_col_name] = 0.0\n",
    "\n",
    "\n",
    "    for i in range(len(data[col])):\n",
    "\n",
    "        # if data is na, place empty string\n",
    "        if pd.isna(data[col][i]):\n",
    "            data[cleaned_col_name][i] = np.NAN\n",
    "        else:\n",
    "\n",
    "            # dont need entire nlp pipeline so parser and ner are disabled        \n",
    "            text_doc = nlp(data[col][i], disable=['parser', 'ner'])\n",
    "\n",
    "            # text is lemmatized, converted to lowercase, and separated by whitespace\n",
    "            text = [tok.lemma_.lower().strip() for tok in text_doc]\n",
    "\n",
    "            # only punctuation marks are being filtered out, and numbers are being ignored\n",
    "            text = [tok for tok in text if tok in words and tok not in punctuations and tok.isnumeric() is False]\n",
    "            # the resulting token list is joined back into a sentence\n",
    "            text =  ' '.join(text)\n",
    "\n",
    "            data[cleaned_col_name][i] = textstat.flesch_reading_ease(text)"
   ]
  },
  {
   "cell_type": "code",
   "execution_count": 152,
   "metadata": {},
   "outputs": [
    {
     "data": {
      "text/plain": [
       "<AxesSubplot:>"
      ]
     },
     "execution_count": 152,
     "metadata": {},
     "output_type": "execute_result"
    },
    {
     "data": {
      "image/png": "[encoded data removed]",
      "text/plain": [
       "<Figure size 1080x720 with 1 Axes>"
      ]
     },
     "metadata": {},
     "output_type": "display_data"
    }
   ],
   "source": [
    "data['company_profile_read_score'].hist()"
   ]
  },
  {
   "cell_type": "code",
   "execution_count": 153,
   "metadata": {},
   "outputs": [
    {
     "data": {
      "text/plain": [
       "<AxesSubplot:>"
      ]
     },
     "execution_count": 153,
     "metadata": {},
     "output_type": "execute_result"
    },
    {
     "data": {
      "image/png": "[encoded data removed]",
      "text/plain": [
       "<Figure size 1080x720 with 1 Axes>"
      ]
     },
     "metadata": {},
     "output_type": "display_data"
    }
   ],
   "source": [
    "data['company_profile_read_score'][data['fraudulent'] == 't'].hist()"
   ]
  },
  {
   "cell_type": "code",
   "execution_count": 154,
   "metadata": {},
   "outputs": [
    {
     "data": {
      "text/plain": [
       "<AxesSubplot:>"
      ]
     },
     "execution_count": 154,
     "metadata": {},
     "output_type": "execute_result"
    },
    {
     "data": {
      "image/png": "[encoded data removed]",
      "text/plain": [
       "<Figure size 1080x720 with 1 Axes>"
      ]
     },
     "metadata": {},
     "output_type": "display_data"
    }
   ],
   "source": [
    "data['company_profile_read_score'][data['fraudulent'] == 'f'].hist()"
   ]
  },
  {
   "cell_type": "code",
   "execution_count": 155,
   "metadata": {},
   "outputs": [
    {
     "data": {
      "text/plain": [
       "<AxesSubplot:>"
      ]
     },
     "execution_count": 155,
     "metadata": {},
     "output_type": "execute_result"
    },
    {
     "data": {
      "image/png": "[encoded data removed]",
      "text/plain": [
       "<Figure size 1080x720 with 1 Axes>"
      ]
     },
     "metadata": {},
     "output_type": "display_data"
    }
   ],
   "source": [
    "data['description_read_score'].hist()"
   ]
  },
  {
   "cell_type": "code",
   "execution_count": 156,
   "metadata": {},
   "outputs": [
    {
     "data": {
      "text/plain": [
       "<AxesSubplot:>"
      ]
     },
     "execution_count": 156,
     "metadata": {},
     "output_type": "execute_result"
    },
    {
     "data": {
      "image/png": "[encoded data removed]",
      "text/plain": [
       "<Figure size 1080x720 with 1 Axes>"
      ]
     },
     "metadata": {},
     "output_type": "display_data"
    }
   ],
   "source": [
    "data['description_read_score'][data['fraudulent'] == 't'].hist()"
   ]
  },
  {
   "cell_type": "code",
   "execution_count": 157,
   "metadata": {},
   "outputs": [
    {
     "data": {
      "text/plain": [
       "<AxesSubplot:>"
      ]
     },
     "execution_count": 157,
     "metadata": {},
     "output_type": "execute_result"
    },
    {
     "data": {
      "image/png": "[encoded data removed]",
      "text/plain": [
       "<Figure size 1080x720 with 1 Axes>"
      ]
     },
     "metadata": {},
     "output_type": "display_data"
    }
   ],
   "source": [
    "data['description_read_score'][data['fraudulent'] == 'f'].hist()"
   ]
  },
  {
   "cell_type": "code",
   "execution_count": 110,
   "metadata": {},
   "outputs": [
    {
     "data": {
      "text/plain": [
       "<AxesSubplot:>"
      ]
     },
     "execution_count": 110,
     "metadata": {},
     "output_type": "execute_result"
    },
    {
     "data": {
      "image/png": "[encoded data removed]",
      "text/plain": [
       "<Figure size 1080x720 with 1 Axes>"
      ]
     },
     "metadata": {},
     "output_type": "display_data"
    }
   ],
   "source": [
    "data['company_profile_cleaned_read_score'].hist()"
   ]
  },
  {
   "cell_type": "code",
   "execution_count": 127,
   "metadata": {},
   "outputs": [
    {
     "data": {
      "text/plain": [
       "<AxesSubplot:>"
      ]
     },
     "execution_count": 127,
     "metadata": {},
     "output_type": "execute_result"
    },
    {
     "data": {
      "image/png": "[encoded data removed]",
      "text/plain": [
       "<Figure size 1080x720 with 1 Axes>"
      ]
     },
     "metadata": {},
     "output_type": "display_data"
    }
   ],
   "source": [
    "data['description_cleaned_read_score'][data['fraudulent'] == 't'].hist()"
   ]
  },
  {
   "cell_type": "code",
   "execution_count": 130,
   "metadata": {},
   "outputs": [
    {
     "data": {
      "text/plain": [
       "\"<p>Organised - Focused - Vibrant - Awesome!<br><br>Do you have a passion for customer service? Slick typing skills? Maybe Account Management? ...And think administration is cooler than a polar bear on a jetski? Then we need to hear you!\\xa0</p>\\r\\n<p>We are the Cloud Video Production Service and opperating on a glodal level. Yeah, it's pretty cool. Serious about\\xa0delivering a world class product and excellent customer service.<br><br>Our rapidly expanding business is looking for a talented Project Manager to manage the successful delivery of video projects, manage client communications and drive the production process. Work with some of the coolest brands on the planet and learn from a global team that are representing NZ is a huge way!<br><br></p>\\r\\n<p>We are entering the next growth stage of our business and growing quickly internationally. \\xa0Therefore, the position is bursting with opportunity for the right person entering the business at the right time.\\xa0</p>\\r\\n<p><b>90 Seconds, the worlds Cloud Video Production Service -\\xa0http://90#URL_fbe6559afac620a3cd2c22281f7b8d0eef56a73e3d9a311e2f1ca13d081dd630#</b></p>\\r\\n<p>90 Seconds is the worlds Cloud Video Production Service enabling brands and agencies to get high quality online video content shot and produced anywhere in the world. Fast, affordable, and all managed seamlessly in the cloud from purchase to publish.\\xa0<br><br>90 Seconds removes the hassle, cost, risk and speed issues of working with regular video production companies by managing every aspect of video projects in a beautiful online experience. \\xa0With a growing network of over 2,000 rated video professionals in over 50 countries and dedicated production success teams in 5 countries guaranteeing video project success 100%. It's as easy as commissioning a quick google adwords campaign.<br><br>90 Seconds has produced almost 4,000 videos in over 30 Countries for over 500 Global brands including some of the worlds largest including Paypal, L'oreal, Sony and Barclays and has offices in Auckland, London, Sydney, Tokyo &amp; Singapore.<br><br>Our Auckland office is based\\xa0right in the heart of the Wynyard Quarter Innovation Precinct - GridAKL!\\xa0</p>\""
      ]
     },
     "execution_count": 130,
     "metadata": {},
     "output_type": "execute_result"
    }
   ],
   "source": [
    "data['description'][data['description_cleaned_read_score'] < -100].iloc[0]"
   ]
  },
  {
   "cell_type": "code",
   "execution_count": 125,
   "metadata": {},
   "outputs": [
    {
     "data": {
      "text/plain": [
       "<AxesSubplot:>"
      ]
     },
     "execution_count": 125,
     "metadata": {},
     "output_type": "execute_result"
    },
    {
     "data": {
      "image/png": "[encoded data removed]",
      "text/plain": [
       "<Figure size 1080x720 with 1 Axes>"
      ]
     },
     "metadata": {},
     "output_type": "display_data"
    }
   ],
   "source": [
    "data['description_cleaned_read_score'][data['fraudulent'] == 'f'].hist()"
   ]
  },
  {
   "cell_type": "markdown",
   "metadata": {},
   "source": [
    "# Feature Engineering #11\n",
    "\n",
    "### Creating a feature to determine average number of words per sentence for each text field"
   ]
  },
  {
   "cell_type": "code",
   "execution_count": 120,
   "metadata": {},
   "outputs": [],
   "source": [
    "clean_up_cols = ['company_profile_cleaned', 'requirements_cleaned', 'description_cleaned', 'benefits_cleaned']\n",
    "\n",
    "for col in clean_up_cols:\n",
    "    # name cleaned up column\n",
    "    col_name = col + '_words_per_sentence'\n",
    "\n",
    "    # initiate empty column\n",
    "    data[col_name] = 0.0\n",
    "\n",
    "    for i in range(len(data[col])):\n",
    "        \n",
    "        # if data is na, place NAN object\n",
    "        if pd.isna(data[col][i]):\n",
    "            data[col_name][i] = np.NAN\n",
    "        else:\n",
    "            # assign read score to field\n",
    "            data[col_name][i] = textstat.words_per_sentence(data[col][i])"
   ]
  },
  {
   "cell_type": "code",
   "execution_count": 122,
   "metadata": {},
   "outputs": [
    {
     "data": {
      "text/plain": [
       "<AxesSubplot:>"
      ]
     },
     "execution_count": 122,
     "metadata": {},
     "output_type": "execute_result"
    },
    {
     "data": {
      "image/png": "[encoded data removed]",
      "text/plain": [
       "<Figure size 1080x720 with 1 Axes>"
      ]
     },
     "metadata": {},
     "output_type": "display_data"
    }
   ],
   "source": [
    "data['company_profile_cleaned_words_per_sentence'].hist()"
   ]
  },
  {
   "cell_type": "code",
   "execution_count": 121,
   "metadata": {},
   "outputs": [
    {
     "data": {
      "text/plain": [
       "<AxesSubplot:>"
      ]
     },
     "execution_count": 121,
     "metadata": {},
     "output_type": "execute_result"
    },
    {
     "data": {
      "image/png": "[encoded data removed]",
      "text/plain": [
       "<Figure size 1080x720 with 1 Axes>"
      ]
     },
     "metadata": {},
     "output_type": "display_data"
    }
   ],
   "source": [
    "data['company_profile_cleaned_words_per_sentence'][data['fraudulent'] == 't'].hist()"
   ]
  },
  {
   "cell_type": "code",
   "execution_count": 123,
   "metadata": {},
   "outputs": [
    {
     "data": {
      "text/plain": [
       "<AxesSubplot:>"
      ]
     },
     "execution_count": 123,
     "metadata": {},
     "output_type": "execute_result"
    },
    {
     "data": {
      "image/png": "[encoded data removed]",
      "text/plain": [
       "<Figure size 1080x720 with 1 Axes>"
      ]
     },
     "metadata": {},
     "output_type": "display_data"
    }
   ],
   "source": [
    "data['company_profile_cleaned_words_per_sentence'][data['fraudulent'] == 'f'].hist()"
   ]
  },
  {
   "cell_type": "markdown",
   "metadata": {},
   "source": [
    "# Feature Engineering #12\n",
    "\n",
    "### Computing sentiment score for each text field"
   ]
  },
  {
   "cell_type": "code",
   "execution_count": 139,
   "metadata": {},
   "outputs": [],
   "source": [
    "clean_up_cols = ['company_profile_cleaned', 'requirements_cleaned', 'description_cleaned', 'benefits_cleaned']\n",
    "\n",
    "for col in clean_up_cols:\n",
    "    # name cleaned up column\n",
    "    col_name = col + '_sentiment'\n",
    "\n",
    "    # initiate empty column\n",
    "    data[col_name] = 0.0\n",
    "\n",
    "    for i in range(len(data[col])):\n",
    "        \n",
    "        # if data is na, place NAN object\n",
    "        if pd.isna(data[col][i]):\n",
    "            data[col_name][i] = np.NAN\n",
    "        else:\n",
    "            # assign read score to field\n",
    "            data[col_name][i] = TextBlob(data[col][i]).sentiment.polarity"
   ]
  },
  {
   "cell_type": "markdown",
   "metadata": {},
   "source": [
    "# Feature Engineering #13\n",
    "\n",
    "### Checking for external references in text fields"
   ]
  },
  {
   "cell_type": "code",
   "execution_count": null,
   "metadata": {},
   "outputs": [],
   "source": [
    "external_refs = ['apply at', 'call me', 'call us', 'contact us', 'send us', 'send resume']\n",
    "\n",
    "clean_up_cols = ['company_profile', 'requirements', 'description', 'benefits']\n",
    "\n",
    "for col in clean_up_cols:\n",
    "    \n",
    "    # name cleaned up column\n",
    "    cleaned_col_name = col + '_external_ref'\n",
    "\n",
    "    # initiate empty column\n",
    "    data[cleaned_col_name] = False\n",
    "\n",
    "\n",
    "    for i in range(len(data[col])):\n",
    "\n",
    "        # if data is na, place empty string\n",
    "        if pd.isna(data[col][i]):\n",
    "            data[cleaned_col_name][i] = np.NAN\n",
    "        else:\n",
    "\n",
    "            # dont need entire nlp pipeline so parser and ner are disabled        \n",
    "            text_doc = nlp(data[col][i], disable=['parser', 'ner'])\n",
    "\n",
    "            # text is converted to lowercase, and separated by whitespace\n",
    "            text = [tok.text.lower().strip() for tok in text_doc]\n",
    "\n",
    "            # stopwords and punctuation marks are filtered out\n",
    "            text = [tok for tok in text if tok in words and tok not in stop_words and tok not in punctuations and tok.isnumeric() is False]\n",
    "            # the resulting token list is joined back into a sentence\n",
    "            text =  ' '.join(text)\n",
    "\n",
    "            for word in external_refs:\n",
    "                if word in text:\n",
    "                    data[cleaned_col_name][i] = True\n",
    "\n"
   ]
  },
  {
   "cell_type": "code",
   "execution_count": 18,
   "metadata": {},
   "outputs": [],
   "source": [
    "data.to_csv('mod_data.csv', index = False)"
   ]
  },
  {
   "cell_type": "markdown",
   "metadata": {},
   "source": [
    "<li> Create Term Document Matrix, and compute TF-IDF\n",
    "<li> Create city plot - plot post locations\n",
    "<li> Create bigrams and trigrams\n",
    "<li> Create feature seeing whether external applications are asked for: call us, mailto, send resume, etc"
   ]
  }
 ],
 "metadata": {
  "interpreter": {
   "hash": "a00b87f3dafb8c5b0afdf77add0e2432ad578e1240a81446720c0c7d6c46e214"
  },
  "kernelspec": {
   "display_name": "Python 3.9.13 64-bit (windows store)",
   "language": "python",
   "name": "python3"
  },
  "language_info": {
   "codemirror_mode": {
    "name": "ipython",
    "version": 3
   },
   "file_extension": ".py",
   "mimetype": "text/x-python",
   "name": "python",
   "nbconvert_exporter": "python",
   "pygments_lexer": "ipython3",
   "version": "3.9.13"
  },
  "orig_nbformat": 4
 },
 "nbformat": 4,
 "nbformat_minor": 2
}
